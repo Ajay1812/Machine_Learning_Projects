{
 "cells": [
  {
   "cell_type": "code",
   "execution_count": 1,
   "id": "ae2aab58",
   "metadata": {},
   "outputs": [],
   "source": [
    "import pandas as pd\n"
   ]
  },
  {
   "cell_type": "code",
   "execution_count": 2,
   "id": "9eb3e188",
   "metadata": {},
   "outputs": [],
   "source": [
    "df = pd.read_csv('jnmarket.csv')"
   ]
  },
  {
   "cell_type": "code",
   "execution_count": 3,
   "id": "cb1af8cc",
   "metadata": {},
   "outputs": [
    {
     "data": {
      "text/html": [
       "<div>\n",
       "<style scoped>\n",
       "    .dataframe tbody tr th:only-of-type {\n",
       "        vertical-align: middle;\n",
       "    }\n",
       "\n",
       "    .dataframe tbody tr th {\n",
       "        vertical-align: top;\n",
       "    }\n",
       "\n",
       "    .dataframe thead th {\n",
       "        text-align: right;\n",
       "    }\n",
       "</style>\n",
       "<table border=\"1\" class=\"dataframe\">\n",
       "  <thead>\n",
       "    <tr style=\"text-align: right;\">\n",
       "      <th></th>\n",
       "      <th>date</th>\n",
       "      <th>name</th>\n",
       "      <th>origin</th>\n",
       "      <th>price</th>\n",
       "      <th>specification</th>\n",
       "    </tr>\n",
       "  </thead>\n",
       "  <tbody>\n",
       "    <tr>\n",
       "      <th>0</th>\n",
       "      <td>2024-05-23</td>\n",
       "      <td>樱桃</td>\n",
       "      <td>辽宁/山东</td>\n",
       "      <td>50.00</td>\n",
       "      <td>胶框</td>\n",
       "    </tr>\n",
       "    <tr>\n",
       "      <th>1</th>\n",
       "      <td>2024-05-23</td>\n",
       "      <td>杨梅</td>\n",
       "      <td>福建/云南</td>\n",
       "      <td>17.78</td>\n",
       "      <td>胶框</td>\n",
       "    </tr>\n",
       "    <tr>\n",
       "      <th>2</th>\n",
       "      <td>2024-05-23</td>\n",
       "      <td>李</td>\n",
       "      <td>云南/广东</td>\n",
       "      <td>10.67</td>\n",
       "      <td>纸箱</td>\n",
       "    </tr>\n",
       "    <tr>\n",
       "      <th>3</th>\n",
       "      <td>2024-05-23</td>\n",
       "      <td>枇杷</td>\n",
       "      <td>云南/福建</td>\n",
       "      <td>18.33</td>\n",
       "      <td>泡沫箱</td>\n",
       "    </tr>\n",
       "    <tr>\n",
       "      <th>4</th>\n",
       "      <td>2024-05-23</td>\n",
       "      <td>芒果</td>\n",
       "      <td>海南</td>\n",
       "      <td>6.50</td>\n",
       "      <td>筐</td>\n",
       "    </tr>\n",
       "  </tbody>\n",
       "</table>\n",
       "</div>"
      ],
      "text/plain": [
       "         date name origin  price specification\n",
       "0  2024-05-23   樱桃  辽宁/山东  50.00            胶框\n",
       "1  2024-05-23   杨梅  福建/云南  17.78            胶框\n",
       "2  2024-05-23    李  云南/广东  10.67            纸箱\n",
       "3  2024-05-23   枇杷  云南/福建  18.33           泡沫箱\n",
       "4  2024-05-23   芒果     海南   6.50             筐"
      ]
     },
     "execution_count": 3,
     "metadata": {},
     "output_type": "execute_result"
    }
   ],
   "source": [
    "df.head()"
   ]
  },
  {
   "cell_type": "code",
   "execution_count": null,
   "id": "06870ef6",
   "metadata": {},
   "outputs": [],
   "source": []
  }
 ],
 "metadata": {
  "kernelspec": {
   "display_name": "Python 3 (ipykernel)",
   "language": "python",
   "name": "python3"
  },
  "language_info": {
   "codemirror_mode": {
    "name": "ipython",
    "version": 3
   },
   "file_extension": ".py",
   "mimetype": "text/x-python",
   "name": "python",
   "nbconvert_exporter": "python",
   "pygments_lexer": "ipython3",
   "version": "3.9.13"
  }
 },
 "nbformat": 4,
 "nbformat_minor": 5
}
